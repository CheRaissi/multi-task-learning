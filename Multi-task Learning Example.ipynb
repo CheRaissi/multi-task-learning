{
 "cells": [
  {
   "cell_type": "code",
   "execution_count": 1,
   "metadata": {},
   "outputs": [
    {
     "name": "stderr",
     "output_type": "stream",
     "text": [
      "Using Theano backend.\n",
      "Using cuDNN version 5110 on context None\n",
      "Mapped name None to device cuda: Tesla P100-PCIE-16GB (0000:81:00.0)\n"
     ]
    }
   ],
   "source": [
    "import sys\n",
    "import numpy as np\n",
    "np.random.seed(0)\n",
    "\n",
    "from keras.layers import Input, Dense, Layer\n",
    "from keras.initializers import Constant\n",
    "from keras.models import Model\n",
    "from keras import backend as K\n",
    "from keras.losses import mean_squared_error"
   ]
  },
  {
   "cell_type": "markdown",
   "metadata": {},
   "source": [
    "## Generate some synthetic data"
   ]
  },
  {
   "cell_type": "code",
   "execution_count": 2,
   "metadata": {
    "collapsed": true
   },
   "outputs": [],
   "source": [
    "N = 100\n",
    "nb_epoch = 2000\n",
    "batch_size = 20\n",
    "nb_features = 1024\n",
    "Q = 1\n",
    "D1 = 1  # first output\n",
    "D2 = 1  # second output"
   ]
  },
  {
   "cell_type": "code",
   "execution_count": 3,
   "metadata": {
    "collapsed": true
   },
   "outputs": [],
   "source": [
    "def gen_data(N):\n",
    "    X = np.random.randn(N, Q)\n",
    "    w1 = 2.\n",
    "    b1 = 8.\n",
    "    sigma1 = 8e0  # ground truth\n",
    "    Y1 = X.dot(w1) + b1 + sigma1 * np.random.randn(N, D1)\n",
    "    w2 = 3\n",
    "    b2 = 3.\n",
    "    sigma2 = 3e0  # ground truth\n",
    "    Y2 = X.dot(w2) + b2 + sigma2 * np.random.randn(N, D2)\n",
    "    return X, Y1, Y2"
   ]
  },
  {
   "cell_type": "code",
   "execution_count": 4,
   "metadata": {},
   "outputs": [
    {
     "data": {
      "image/png": "[encoded data removed]",
      "text/plain": [
       "<matplotlib.figure.Figure at 0x7fd7c8047850>"
      ]
     },
     "metadata": {},
     "output_type": "display_data"
    }
   ],
   "source": [
    "import pylab\n",
    "%matplotlib inline\n",
    "\n",
    "X, Y1, Y2 = gen_data(N)\n",
    "pylab.figure(figsize=(3, 1.5))\n",
    "pylab.scatter(X[:, 0], Y1[:, 0])\n",
    "pylab.scatter(X[:, 0], Y2[:, 0])\n",
    "pylab.show()"
   ]
  },
  {
   "cell_type": "markdown",
   "metadata": {},
   "source": [
    "## Use an simple \"transparent\" layer to add the log_vars and access them later"
   ]
  },
  {
   "cell_type": "code",
   "execution_count": 5,
   "metadata": {
    "collapsed": true
   },
   "outputs": [],
   "source": [
    "class LogVarLayer(Layer):\n",
    "    def __init__(self,nb_outputs=2,**kwargs):\n",
    "        self.nb_outputs = nb_outputs\n",
    "        self.is_placeholder = True\n",
    "        super(LogVarLayer, self).__init__(**kwargs)\n",
    "    \n",
    "    def build(self, input_shape=None):\n",
    "        # initialise log_vars\n",
    "        self.log_vars = []\n",
    "        for i in range(self.nb_outputs):\n",
    "            self.log_vars += [self.add_weight(name='log_var' + str(i), shape=(1,),\n",
    "                                              initializer=Constant(0.), trainable=True)]\n",
    "        super(LogVarLayer, self).build(input_shape)\n",
    "    \n",
    "    def call(self,inputs):\n",
    "        #NOOP\n",
    "        return inputs"
   ]
  },
  {
   "cell_type": "markdown",
   "metadata": {},
   "source": [
    "## Define a class for the multi-loss function, we will use them through the classical keras scheme (compile+fit)"
   ]
  },
  {
   "cell_type": "code",
   "execution_count": 6,
   "metadata": {
    "collapsed": true
   },
   "outputs": [],
   "source": [
    "class LossFunction(object):\n",
    "    # Ugly, to be cleaned later. \n",
    "    def __init__(self,log_var1,log_var2):\n",
    "        self.log_var1 = log_var1\n",
    "        self.log_var2 = log_var2\n",
    "        \n",
    "    def MSE_loss_sigma1(self, y_true, y_pred): \n",
    "        precision = K.exp(-self.log_var1[0])\n",
    "        return K.sum(precision * mean_squared_error(y_true,y_pred) + self.log_var1[0], -1)\n",
    "    \n",
    "    def MSE_loss_sigma2(self, y_true, y_pred):\n",
    "       \n",
    "        precision = K.exp(-self.log_var2[0])\n",
    "        return K.sum(precision * mean_squared_error(y_true,y_pred) + self.log_var2[0], -1)\n",
    "                    \n",
    "                    "
   ]
  },
  {
   "cell_type": "markdown",
   "metadata": {},
   "source": [
    "## Define the model"
   ]
  },
  {
   "cell_type": "code",
   "execution_count": 7,
   "metadata": {},
   "outputs": [],
   "source": [
    "inp = Input(shape=(Q,), name='inp')\n",
    "x = Dense(nb_features, activation='relu')(inp)\n",
    "log_var = LogVarLayer()(x)\n",
    "y1_pred = Dense(D1)(x)\n",
    "y2_pred = Dense(D2)(x)\n",
    "\n",
    "model = Model(inp, [y1_pred, y2_pred,log_var])"
   ]
  },
  {
   "cell_type": "code",
   "execution_count": 8,
   "metadata": {
    "scrolled": true
   },
   "outputs": [
    {
     "name": "stdout",
     "output_type": "stream",
     "text": [
      "____________________________________________________________________________________________________\n",
      "Layer (type)                     Output Shape          Param #     Connected to                     \n",
      "====================================================================================================\n",
      "inp (InputLayer)                 (None, 1)             0                                            \n",
      "____________________________________________________________________________________________________\n",
      "dense_1 (Dense)                  (None, 1024)          2048        inp[0][0]                        \n",
      "____________________________________________________________________________________________________\n",
      "dense_2 (Dense)                  (None, 1)             1025        dense_1[0][0]                    \n",
      "____________________________________________________________________________________________________\n",
      "dense_3 (Dense)                  (None, 1)             1025        dense_1[0][0]                    \n",
      "____________________________________________________________________________________________________\n",
      "log_var_layer_1 (LogVarLayer)    (None, 1024)          2           dense_1[0][0]                    \n",
      "====================================================================================================\n",
      "Total params: 4,100\n",
      "Trainable params: 4,100\n",
      "Non-trainable params: 0\n",
      "____________________________________________________________________________________________________\n"
     ]
    }
   ],
   "source": [
    "model.summary()"
   ]
  },
  {
   "cell_type": "code",
   "execution_count": 9,
   "metadata": {
    "collapsed": true
   },
   "outputs": [],
   "source": [
    "sigma = model.layers[-1].log_vars\n",
    "lf = LossFunction(sigma[0],sigma[1])"
   ]
  },
  {
   "cell_type": "code",
   "execution_count": 10,
   "metadata": {},
   "outputs": [],
   "source": [
    "model.compile(optimizer='adam', loss=[lf.MSE_loss_sigma1,lf.MSE_loss_sigma2,None])"
   ]
  },
  {
   "cell_type": "code",
   "execution_count": 11,
   "metadata": {
    "collapsed": true
   },
   "outputs": [],
   "source": [
    "hist = model.fit([X], [Y1, Y2], epochs=nb_epoch, batch_size=batch_size, verbose=0)"
   ]
  },
  {
   "cell_type": "code",
   "execution_count": 12,
   "metadata": {},
   "outputs": [
    {
     "data": {
      "text/plain": [
       "[<matplotlib.lines.Line2D at 0x7fd79a37aa50>]"
      ]
     },
     "execution_count": 12,
     "metadata": {},
     "output_type": "execute_result"
    },
    {
     "data": {
      "image/png": "[encoded data removed]",
      "text/plain": [
       "<matplotlib.figure.Figure at 0x7fd79a37af10>"
      ]
     },
     "metadata": {},
     "output_type": "display_data"
    }
   ],
   "source": [
    "pylab.plot(hist.history['loss'])"
   ]
  },
  {
   "cell_type": "code",
   "execution_count": 38,
   "metadata": {},
   "outputs": [
    {
     "name": "stdout",
     "output_type": "stream",
     "text": [
      "7.84161566766\n",
      "2.75054345396\n"
     ]
    }
   ],
   "source": [
    "for log_var in sigma:\n",
    "    print(np.exp(log_var[0].eval())**0.5)"
   ]
  }
 ],
 "metadata": {
  "kernelspec": {
   "display_name": "Python 2",
   "language": "python",
   "name": "python2"
  },
  "language_info": {
   "codemirror_mode": {
    "name": "ipython",
    "version": 2
   },
   "file_extension": ".py",
   "mimetype": "text/x-python",
   "name": "python",
   "nbconvert_exporter": "python",
   "pygments_lexer": "ipython2",
   "version": "2.7.12"
  }
 },
 "nbformat": 4,
 "nbformat_minor": 2
}
